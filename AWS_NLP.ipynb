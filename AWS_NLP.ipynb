{
 "cells": [
  {
   "cell_type": "markdown",
   "metadata": {},
   "source": [
    "**Importing libraries**"
   ]
  },
  {
   "cell_type": "code",
   "execution_count": 1,
   "metadata": {},
   "outputs": [],
   "source": [
    "import boto3\n",
    "import os\n",
    "import time\n",
    "import matplotlib.pyplot as plt\n",
    "import seaborn as sns\n",
    "import datetime as dt\n",
    "import json\n",
    "from math import pi\n",
    "import pandas as pd\n",
    "import numpy as np\n",
    "import spacy\n",
    "import youtube_dl\n"
   ]
  },
  {
   "cell_type": "code",
   "execution_count": 2,
   "metadata": {},
   "outputs": [],
   "source": [
    "os.chdir(\"<CHOOSE_YOUR_FOLDER>\")"
   ]
  },
  {
   "cell_type": "markdown",
   "metadata": {},
   "source": [
    "**Setting up the links for the speeches in a dictionary**"
   ]
  },
  {
   "cell_type": "code",
   "execution_count": 3,
   "metadata": {},
   "outputs": [],
   "source": [
    "dict_url_youtube = {'obama':'https://www.youtube.com/watch?v=ZNYmK19-d0U',\\\n",
    "                   'trump':'https://www.youtube.com/watch?v=Q6YvsrGILrw'}"
   ]
  },
  {
   "cell_type": "markdown",
   "metadata": {},
   "source": [
    "**Downloading speeches**"
   ]
  },
  {
   "cell_type": "code",
   "execution_count": null,
   "metadata": {},
   "outputs": [],
   "source": [
    "\n",
    "for url in list(dict_url_youtube.values()):\n",
    "    print(f'Downloading audio file from the youtube: {url}')\n",
    "    os.system(f'youtube-dl -x --audio-format mp3 {url}')"
   ]
  },
  {
   "cell_type": "markdown",
   "metadata": {},
   "source": [
    "**Setting up the dataframe for the analyis**"
   ]
  },
  {
   "cell_type": "code",
   "execution_count": 4,
   "metadata": {},
   "outputs": [],
   "source": [
    "df = pd.DataFrame.from_dict(dict_url_youtube, orient='index', columns=['youtube_url'])"
   ]
  },
  {
   "cell_type": "markdown",
   "metadata": {},
   "source": [
    "**Linking the urls to the downloaded audio file**"
   ]
  },
  {
   "cell_type": "code",
   "execution_count": 6,
   "metadata": {},
   "outputs": [],
   "source": [
    "for audio in os.listdir():\n",
    "    if \"obama\" in audio.lower():\n",
    "        df.at[\"obama\", \"filename\"] = audio\n",
    "    elif \"trump\" in audio.lower():\n",
    "        df.at[\"trump\", \"filename\"] = audio"
   ]
  },
  {
   "cell_type": "markdown",
   "metadata": {},
   "source": [
    "**Logging in AWS**"
   ]
  },
  {
   "cell_type": "code",
   "execution_count": 8,
   "metadata": {},
   "outputs": [],
   "source": [
    "aws_access_key_id = '<ACCESS_KEY>'\n",
    "aws_secret_access_key = '<SECRET_KEY>'\n",
    "region_name = 'eu-west-1'"
   ]
  },
  {
   "cell_type": "code",
   "execution_count": 9,
   "metadata": {},
   "outputs": [],
   "source": [
    "#opening session in AWS\n",
    "session = boto3.session.Session(aws_access_key_id=aws_access_key_id,\n",
    "                                aws_secret_access_key=aws_secret_access_key,\n",
    "                                region_name=region_name)"
   ]
  },
  {
   "cell_type": "code",
   "execution_count": 10,
   "metadata": {},
   "outputs": [
    {
     "name": "stdout",
     "output_type": "stream",
     "text": [
      "129035\n",
      "1901321-hw\n",
      "1902120\n",
      "1902224\n",
      "1902522-hw2\n",
      "1902727\n",
      "1902994\n",
      "1902994-liyue\n",
      "1903221-hw2\n",
      "1903282\n",
      "1904041\n",
      "1904164-hw2-s3\n",
      "1904185\n",
      "1904320\n",
      "1904320-mt2\n",
      "1904415-lorant\n",
      "1904416\n",
      "aytaj-ahmad-hw2\n",
      "ceu-1701281\n",
      "ceu-1901272\n",
      "ceu-1902213\n",
      "ceu-2727\n",
      "ceu-aytaj-ahmad\n",
      "ceu-celia-inclass\n",
      "ceu-class-alex-hip\n",
      "ceu-class-zoltan-zac\n",
      "ceu-class-zoltan0lt\n",
      "ceu-eszter-balogh\n",
      "ceu-geroldcsendes\n",
      "ceu-gulyas-attila\n",
      "ceu-hassaan\n",
      "ceu-kissgyula\n",
      "ceu-ksenia-skirpichnikova\n",
      "ceu-ksenia-skirpichnikova-yag\n",
      "ceu-lealoscar\n",
      "ceu-miklosbona\n",
      "ceu-palotai-veronika\n",
      "ceu-riaz\n",
      "ceu-somkuti\n",
      "ceu-student-1803551\n",
      "ceu-szekelygergo\n",
      "ceu-tamas\n",
      "ceu-vaivodaite-agne\n",
      "ceu-zoltan\n",
      "ceu-zoltan-inclass\n",
      "cloudtrail-ceu-2019\n",
      "lisasceubucket\n",
      "liyue-1902994\n",
      "manila-saroyan-homework\n",
      "sebair-selmani-1803425\n",
      "spainvideo\n",
      "teodoro.criscione\n",
      "yaoyu-ceu\n"
     ]
    }
   ],
   "source": [
    "# Uploading files to S3\n",
    "# Instantiate client\n",
    "s3 = session.client('s3')\n",
    "\n",
    "# List created buckets\n",
    "response = s3.list_buckets()\n",
    "buckets = [bucket['Name'] for bucket in response['Buckets']]\n",
    "\n",
    "for bucket in buckets:\n",
    "    print(bucket)"
   ]
  },
  {
   "cell_type": "markdown",
   "metadata": {},
   "source": [
    "**Upload audio files to AWS**"
   ]
  },
  {
   "cell_type": "code",
   "execution_count": 11,
   "metadata": {},
   "outputs": [],
   "source": [
    "my_bucket_name='<YOUR_BUCKET_NAME>'"
   ]
  },
  {
   "cell_type": "code",
   "execution_count": 12,
   "metadata": {},
   "outputs": [
    {
     "name": "stdout",
     "output_type": "stream",
     "text": [
      "President Obama on Death of Osama bin Laden-ZNYmK19-d0U.mp3\n",
      "President Trump's full announcement on the death of Abu Bakr al-Baghdadi-Q6YvsrGILrw.mp3\n"
     ]
    }
   ],
   "source": [
    "#upload files in AWS\n",
    "for audio in df.filename.values:\n",
    "    print(audio)\n",
    "    s3.upload_file(audio,my_bucket_name,audio)"
   ]
  },
  {
   "cell_type": "markdown",
   "metadata": {},
   "source": [
    "**Getting the AWS url location in the dataframe**"
   ]
  },
  {
   "cell_type": "code",
   "execution_count": 13,
   "metadata": {},
   "outputs": [],
   "source": [
    "for index, row in df.iterrows():\n",
    "    bucket_location = s3.get_bucket_location(Bucket=my_bucket_name)\n",
    "    bucket_url=f\"https://{my_bucket_name}.s3.amazonaws.com/{row['filename'].replace(' ', '+')}\"\n",
    "    df.at[index, 'aws_url']=bucket_url"
   ]
  },
  {
   "cell_type": "markdown",
   "metadata": {},
   "source": [
    "**Amazon Transcribe**"
   ]
  },
  {
   "cell_type": "code",
   "execution_count": 14,
   "metadata": {},
   "outputs": [],
   "source": [
    "# Function to start Amazon Transcribe job\n",
    "def start_transcription(bucket, job_name, file_url, wait_process=True):\n",
    "    client_transcribe = session.client('transcribe', region_name='eu-west-1')\n",
    "    client_transcribe.start_transcription_job(\n",
    "        TranscriptionJobName=job_name,\n",
    "        Media={'MediaFileUri': file_url},\n",
    "        MediaFormat='mp3',\n",
    "        LanguageCode='en-US',\n",
    "        OutputBucketName=bucket)\n",
    "    \n",
    "    if wait_process:\n",
    "        while True:\n",
    "            \n",
    "            status = client_transcribe.get_transcription_job(TranscriptionJobName=job_name)\n",
    "            print(status['TranscriptionJob']['TranscriptionJobStatus'])\n",
    "            if status['TranscriptionJob']['TranscriptionJobStatus'] in ['COMPLETED', 'FAILED']:\n",
    "                #print(status['TranscriptionJob']['TranscriptionJobStatus'])\n",
    "                #print(status['TranscriptionJob'])\n",
    "                break\n",
    "            print(\"Not ready yet...\")\n",
    "            time.sleep(20)\n",
    "\n",
    "        print('Transcription finished')\n",
    "        return status"
   ]
  },
  {
   "cell_type": "code",
   "execution_count": 15,
   "metadata": {
    "scrolled": false
   },
   "outputs": [
    {
     "name": "stdout",
     "output_type": "stream",
     "text": [
      "obama https://1904415-lorant.s3.amazonaws.com/President+Obama+on+Death+of+Osama+bin+Laden-ZNYmK19-d0U.mp3\n",
      "before wait_process\n",
      "inside while\n",
      "IN_PROGRESS\n",
      "Not ready yet...\n",
      "inside while\n",
      "IN_PROGRESS\n",
      "Not ready yet...\n",
      "inside while\n",
      "IN_PROGRESS\n",
      "Not ready yet...\n",
      "inside while\n",
      "IN_PROGRESS\n",
      "Not ready yet...\n",
      "inside while\n",
      "IN_PROGRESS\n",
      "Not ready yet...\n",
      "inside while\n",
      "IN_PROGRESS\n",
      "Not ready yet...\n",
      "inside while\n",
      "IN_PROGRESS\n",
      "Not ready yet...\n",
      "inside while\n",
      "COMPLETED\n",
      "COMPLETED\n",
      "{'TranscriptionJobName': 'transcribe_job_2obama', 'TranscriptionJobStatus': 'COMPLETED', 'LanguageCode': 'en-US', 'MediaSampleRateHertz': 48000, 'MediaFormat': 'mp3', 'Media': {'MediaFileUri': 'https://1904415-lorant.s3.amazonaws.com/President+Obama+on+Death+of+Osama+bin+Laden-ZNYmK19-d0U.mp3'}, 'Transcript': {'TranscriptFileUri': 'https://s3.eu-west-1.amazonaws.com/1904415-lorant/transcribe_job_2obama.json'}, 'CreationTime': datetime.datetime(2019, 11, 17, 18, 20, 7, 331000, tzinfo=tzlocal()), 'CompletionTime': datetime.datetime(2019, 11, 17, 18, 22, 25, 287000, tzinfo=tzlocal()), 'Settings': {'ChannelIdentification': False}}\n",
      "Transcription finished\n",
      "trump https://1904415-lorant.s3.amazonaws.com/President+Trump's+full+announcement+on+the+death+of+Abu+Bakr+al-Baghdadi-Q6YvsrGILrw.mp3\n",
      "before wait_process\n",
      "inside while\n",
      "IN_PROGRESS\n",
      "Not ready yet...\n",
      "inside while\n",
      "IN_PROGRESS\n",
      "Not ready yet...\n",
      "inside while\n",
      "IN_PROGRESS\n",
      "Not ready yet...\n",
      "inside while\n",
      "IN_PROGRESS\n",
      "Not ready yet...\n",
      "inside while\n",
      "IN_PROGRESS\n",
      "Not ready yet...\n",
      "inside while\n",
      "IN_PROGRESS\n",
      "Not ready yet...\n",
      "inside while\n",
      "IN_PROGRESS\n",
      "Not ready yet...\n",
      "inside while\n",
      "IN_PROGRESS\n",
      "Not ready yet...\n",
      "inside while\n",
      "IN_PROGRESS\n",
      "Not ready yet...\n",
      "inside while\n",
      "IN_PROGRESS\n",
      "Not ready yet...\n",
      "inside while\n",
      "IN_PROGRESS\n",
      "Not ready yet...\n",
      "inside while\n",
      "IN_PROGRESS\n",
      "Not ready yet...\n",
      "inside while\n",
      "IN_PROGRESS\n",
      "Not ready yet...\n",
      "inside while\n",
      "IN_PROGRESS\n",
      "Not ready yet...\n",
      "inside while\n",
      "IN_PROGRESS\n",
      "Not ready yet...\n",
      "inside while\n",
      "IN_PROGRESS\n",
      "Not ready yet...\n",
      "inside while\n",
      "IN_PROGRESS\n",
      "Not ready yet...\n",
      "inside while\n",
      "IN_PROGRESS\n",
      "Not ready yet...\n",
      "inside while\n",
      "IN_PROGRESS\n",
      "Not ready yet...\n",
      "inside while\n",
      "COMPLETED\n",
      "COMPLETED\n",
      "{'TranscriptionJobName': 'transcribe_job_2trump', 'TranscriptionJobStatus': 'COMPLETED', 'LanguageCode': 'en-US', 'MediaSampleRateHertz': 48000, 'MediaFormat': 'mp3', 'Media': {'MediaFileUri': \"https://1904415-lorant.s3.amazonaws.com/President+Trump's+full+announcement+on+the+death+of+Abu+Bakr+al-Baghdadi-Q6YvsrGILrw.mp3\"}, 'Transcript': {'TranscriptFileUri': 'https://s3.eu-west-1.amazonaws.com/1904415-lorant/transcribe_job_2trump.json'}, 'CreationTime': datetime.datetime(2019, 11, 17, 18, 22, 29, 39000, tzinfo=tzlocal()), 'CompletionTime': datetime.datetime(2019, 11, 17, 18, 28, 34, 456000, tzinfo=tzlocal()), 'Settings': {'ChannelIdentification': False}}\n",
      "Transcription finished\n"
     ]
    }
   ],
   "source": [
    "# Iterate over the audio files URLs on S3 and call start_transcription\n",
    "\n",
    "for index, row in df.iterrows():    \n",
    "    print(index, row.aws_url)\n",
    "    start_transcription(my_bucket_name, \"transcribe_job_2\" + index, row.aws_url, wait_process=True)\n",
    "    \n",
    "    df.at[index, 'transcription_url'] = f\"https://{my_bucket_name}.s3.amazonaws.com/transcribe_job_2\" + index + \".json\"\n",
    "    df.at[index, 'json_transcription'] = \"transcribe_job_2\"+index+\".json\""
   ]
  },
  {
   "cell_type": "code",
   "execution_count": 16,
   "metadata": {},
   "outputs": [
    {
     "data": {
      "text/plain": [
       "{'Status': 'COMPLETED',\n",
       " 'NextToken': '3/Q22yZ4n/FldYqPp93OxPu8XA69/7x1u4RysBNJ18RA2W+x4D7vH2aeJPfmaCp/xOUufO6dAEc/OPOanY004GzApLO1wb0UxXKbotfELTuHyMGaEhnNEFDe151kKBscYj7VQctTYEusoTlM2WUfufp6uVQGTu4Zy0XjXDuQxC5JexG5BmSyROtxnLdsFkQ/OyP03nrMNQ5GpBhQBb5w6gJixxC0wsHwSbQDTZCf0dQGzN5mWzjutTR4bA7jmBSPeX2mVz/1k6utr3iquAzgzUJeG3xDuVLvlGdwO7ELsHe0DhCpITpfeohu3DBWKGs9PFbieR+MChHjfmQP0xzpVKsPETQm4/STj6UMWU5sBK3CbyLLMPQly0bNpObnDq0+iAt6Bg76wewy63uZLT81OdWFH9V/pid7R2mwbH/sLDXV263ml1D596TxOQkUdrrxw2Xheskr97geYujKRRKUJTkUsq87kzwuKKLLYT+yJmS/Puwb+buCs62Q0M5HsPGVnjJrNw+b8IDuNkrKyBTtTQ3ogtH8sHvVc50ObIjvP1cYl8iN+hvhuDzuSB6pi9/oFLXapTtG0NwuMCKERm43hi6S+ZOafxYf7qwCNA4Pj/7twBWxz8Ttkg3aIczgSnhG6i3geKsavRq+husGNCdzONj46LGO/ptjIux4+oiNlU6cX4ZYfMurJtVBREr/4pG5D2x2pTanCZ9hamy6AM3+l4HDV9sjs2Q167Y0S8ECEl2IZxBSltNLr+B0c8xdAoWf6EGc4+0OGDeDTdfSUhATwaU0qvrmBZbUEZrG9jwWuDP6r6PycNrT6sP0HkGe4IPThP0GBVMEsuggIZZbSZCgLz1FHVRRqmTv2zS4KuMl/vOizxjGDPXVQhoh5mMXlBRNFG',\n",
       " 'TranscriptionJobSummaries': [{'TranscriptionJobName': 'transcribe_job_2trump',\n",
       "   'CreationTime': datetime.datetime(2019, 11, 17, 18, 22, 29, 39000, tzinfo=tzlocal()),\n",
       "   'CompletionTime': datetime.datetime(2019, 11, 17, 18, 28, 34, 456000, tzinfo=tzlocal()),\n",
       "   'LanguageCode': 'en-US',\n",
       "   'TranscriptionJobStatus': 'COMPLETED',\n",
       "   'OutputLocationType': 'CUSTOMER_BUCKET'},\n",
       "  {'TranscriptionJobName': 'transcribe_job_2obama',\n",
       "   'CreationTime': datetime.datetime(2019, 11, 17, 18, 20, 7, 331000, tzinfo=tzlocal()),\n",
       "   'CompletionTime': datetime.datetime(2019, 11, 17, 18, 22, 25, 287000, tzinfo=tzlocal()),\n",
       "   'LanguageCode': 'en-US',\n",
       "   'TranscriptionJobStatus': 'COMPLETED',\n",
       "   'OutputLocationType': 'CUSTOMER_BUCKET'},\n",
       "  {'TranscriptionJobName': '1903282_2n',\n",
       "   'CreationTime': datetime.datetime(2019, 11, 17, 16, 59, 29, 885000, tzinfo=tzlocal()),\n",
       "   'CompletionTime': datetime.datetime(2019, 11, 17, 17, 0, 53, 870000, tzinfo=tzlocal()),\n",
       "   'LanguageCode': 'en-US',\n",
       "   'TranscriptionJobStatus': 'COMPLETED',\n",
       "   'OutputLocationType': 'SERVICE_BUCKET'},\n",
       "  {'TranscriptionJobName': '1903282_2',\n",
       "   'CreationTime': datetime.datetime(2019, 11, 16, 17, 22, 51, 790000, tzinfo=tzlocal()),\n",
       "   'CompletionTime': datetime.datetime(2019, 11, 16, 17, 25, 21, 254000, tzinfo=tzlocal()),\n",
       "   'LanguageCode': 'en-US',\n",
       "   'TranscriptionJobStatus': 'COMPLETED',\n",
       "   'OutputLocationType': 'SERVICE_BUCKET'},\n",
       "  {'TranscriptionJobName': 'am-french-news_321',\n",
       "   'CreationTime': datetime.datetime(2019, 11, 16, 17, 7, 11, 718000, tzinfo=tzlocal()),\n",
       "   'CompletionTime': datetime.datetime(2019, 11, 16, 17, 9, 32, 345000, tzinfo=tzlocal()),\n",
       "   'LanguageCode': 'fr-FR',\n",
       "   'TranscriptionJobStatus': 'COMPLETED',\n",
       "   'OutputLocationType': 'SERVICE_BUCKET'}],\n",
       " 'ResponseMetadata': {'RequestId': '50967d47-3367-4a8d-bbd1-51b539286136',\n",
       "  'HTTPStatusCode': 200,\n",
       "  'HTTPHeaders': {'content-type': 'application/x-amz-json-1.1',\n",
       "   'date': 'Sun, 17 Nov 2019 17:29:22 GMT',\n",
       "   'x-amzn-requestid': '50967d47-3367-4a8d-bbd1-51b539286136',\n",
       "   'content-length': '2004',\n",
       "   'connection': 'keep-alive'},\n",
       "  'RetryAttempts': 0}}"
      ]
     },
     "execution_count": 16,
     "metadata": {},
     "output_type": "execute_result"
    }
   ],
   "source": [
    "# Checking if the upload was succesfull\n",
    "client_transcribe = session.client('transcribe', region_name='eu-west-1')\n",
    "response_transcribe = client_transcribe.list_transcription_jobs(\n",
    "    Status='COMPLETED')\n",
    "   \n",
    "response_transcribe"
   ]
  },
  {
   "cell_type": "code",
   "execution_count": 17,
   "metadata": {},
   "outputs": [],
   "source": [
    "#function on getting raw text from the json format\n",
    "def get_text_from_json(bucket, key):\n",
    "    s3 = session.client('s3', region_name='eu-west-1')\n",
    "    object = s3.get_object(Bucket=bucket, Key=key)\n",
    "    serializedObject = object['Body'].read()\n",
    "    data = json.loads(serializedObject)\n",
    "    return data.get('results').get('transcripts')[0].get('transcript')"
   ]
  },
  {
   "cell_type": "code",
   "execution_count": 19,
   "metadata": {},
   "outputs": [],
   "source": [
    "# function on the AWS comprehension \n",
    "def start_comprehend_job(text):\n",
    "    \"\"\"\n",
    "    Executes sentiment analysis of a text using Amazon Comprehend.\n",
    "    The text can be larger than 5000 bytes (one limitation for each job), as \n",
    "    the function will split it into multiple processes and return a \n",
    "    averaged value for each sentiment.\n",
    "    \n",
    "    Parameter\n",
    "    - text (str): The text to be analyzed\n",
    "    \n",
    "    Return\n",
    "    - final_dict (dict): Dictionary with the percentage of each one of the 4 \n",
    "    sentiments evaluated on Amazon Comprehend model (positive, negative, \n",
    "    neutral, mixed)\n",
    "    \"\"\"\n",
    "    list_parts = []\n",
    "    text_for_analysis = ''\n",
    "    for sentence in text.split('.'):\n",
    "        current_text = text_for_analysis + f'{sentence}.'\n",
    "\n",
    "        if len(current_text.encode('utf-8')) > 5000:\n",
    "            list_parts.append([len(text_for_analysis), text_for_analysis])\n",
    "            text_for_analysis = f'{sentence}.'\n",
    "\n",
    "        else:\n",
    "            text_for_analysis += f'{sentence}.'\n",
    "\n",
    "    list_parts.append([len(text_for_analysis), text_for_analysis])\n",
    "    dict_comprehend = {}\n",
    "    for t_parts in list_parts:\n",
    "       \n",
    "        comprehend_client = session.client(service_name='comprehend', region_name='eu-west-1')\n",
    "        sentimentData = comprehend_client.detect_sentiment(Text=t_parts[1], LanguageCode='en')\n",
    "        \n",
    "        dict_comprehend[t_parts[0]] = sentimentData\n",
    "        dict_comprehend[t_parts[0]]['ratio'] = t_parts[0]/float(len(text))\n",
    "\n",
    "    final_dict = {'Positive':0, 'Negative':0, 'Neutral':0, 'Mixed':0}\n",
    "    list_sentiments = ['Positive', 'Negative', 'Neutral', 'Mixed']\n",
    "    for sentiment in list_sentiments:\n",
    "        for key, value in dict_comprehend.items():\n",
    "            final_dict[sentiment] += value.get('SentimentScore').get(sentiment) * value.get('ratio')\n",
    "    \n",
    "    return final_dict"
   ]
  },
  {
   "cell_type": "code",
   "execution_count": 20,
   "metadata": {},
   "outputs": [],
   "source": [
    "# running the comprehension fucntion\n",
    "for index, row in df.iterrows():\n",
    "    transcript_text = get_text_from_json(my_bucket_name, row.json_transcription)\n",
    "    comprehend_results = start_comprehend_job(transcript_text)\n",
    "    for k,v in comprehend_results.items():\n",
    "        df.at[index, k] = v"
   ]
  },
  {
   "cell_type": "code",
   "execution_count": 21,
   "metadata": {},
   "outputs": [
    {
     "data": {
      "text/html": [
       "<div>\n",
       "<style scoped>\n",
       "    .dataframe tbody tr th:only-of-type {\n",
       "        vertical-align: middle;\n",
       "    }\n",
       "\n",
       "    .dataframe tbody tr th {\n",
       "        vertical-align: top;\n",
       "    }\n",
       "\n",
       "    .dataframe thead th {\n",
       "        text-align: right;\n",
       "    }\n",
       "</style>\n",
       "<table border=\"1\" class=\"dataframe\">\n",
       "  <thead>\n",
       "    <tr style=\"text-align: right;\">\n",
       "      <th></th>\n",
       "      <th>youtube_url</th>\n",
       "      <th>filename</th>\n",
       "      <th>aws_url</th>\n",
       "      <th>transcription_url</th>\n",
       "      <th>json_transcription</th>\n",
       "      <th>Positive</th>\n",
       "      <th>Negative</th>\n",
       "      <th>Neutral</th>\n",
       "      <th>Mixed</th>\n",
       "    </tr>\n",
       "  </thead>\n",
       "  <tbody>\n",
       "    <tr>\n",
       "      <th>obama</th>\n",
       "      <td>https://www.youtube.com/watch?v=ZNYmK19-d0U</td>\n",
       "      <td>President Obama on Death of Osama bin Laden-ZN...</td>\n",
       "      <td>https://1904415-lorant.s3.amazonaws.com/Presid...</td>\n",
       "      <td>https://1904415-lorant.s3.amazonaws.com/transc...</td>\n",
       "      <td>transcribe_job_2obama.json</td>\n",
       "      <td>0.595635</td>\n",
       "      <td>0.057552</td>\n",
       "      <td>0.34555</td>\n",
       "      <td>0.00139</td>\n",
       "    </tr>\n",
       "    <tr>\n",
       "      <th>trump</th>\n",
       "      <td>https://www.youtube.com/watch?v=Q6YvsrGILrw</td>\n",
       "      <td>President Trump's full announcement on the dea...</td>\n",
       "      <td>https://1904415-lorant.s3.amazonaws.com/Presid...</td>\n",
       "      <td>https://1904415-lorant.s3.amazonaws.com/transc...</td>\n",
       "      <td>transcribe_job_2trump.json</td>\n",
       "      <td>0.460948</td>\n",
       "      <td>0.361498</td>\n",
       "      <td>0.16256</td>\n",
       "      <td>0.01502</td>\n",
       "    </tr>\n",
       "  </tbody>\n",
       "</table>\n",
       "</div>"
      ],
      "text/plain": [
       "                                       youtube_url  \\\n",
       "obama  https://www.youtube.com/watch?v=ZNYmK19-d0U   \n",
       "trump  https://www.youtube.com/watch?v=Q6YvsrGILrw   \n",
       "\n",
       "                                                filename  \\\n",
       "obama  President Obama on Death of Osama bin Laden-ZN...   \n",
       "trump  President Trump's full announcement on the dea...   \n",
       "\n",
       "                                                 aws_url  \\\n",
       "obama  https://1904415-lorant.s3.amazonaws.com/Presid...   \n",
       "trump  https://1904415-lorant.s3.amazonaws.com/Presid...   \n",
       "\n",
       "                                       transcription_url  \\\n",
       "obama  https://1904415-lorant.s3.amazonaws.com/transc...   \n",
       "trump  https://1904415-lorant.s3.amazonaws.com/transc...   \n",
       "\n",
       "               json_transcription  Positive  Negative  Neutral    Mixed  \n",
       "obama  transcribe_job_2obama.json  0.595635  0.057552  0.34555  0.00139  \n",
       "trump  transcribe_job_2trump.json  0.460948  0.361498  0.16256  0.01502  "
      ]
     },
     "execution_count": 21,
     "metadata": {},
     "output_type": "execute_result"
    }
   ],
   "source": [
    "df"
   ]
  },
  {
   "cell_type": "code",
   "execution_count": 25,
   "metadata": {},
   "outputs": [],
   "source": [
    "#preparing the dataframe in a better format\n",
    "df['label_capitalized'] = df.index.str.capitalize()\n",
    "df_sentiment = df[['label_capitalized','Positive', 'Negative', 'Neutral', 'Mixed']]\n",
    "\n",
    "\n",
    "df_melt = pd.melt(df_sentiment, id_vars=\"label_capitalized\", var_name='sentiment',value_name=\"sentiment_rate\")\n",
    "\n",
    "df_melt[\"sentiment_perc\"] = df_melt.sentiment_rate*100"
   ]
  },
  {
   "cell_type": "code",
   "execution_count": 32,
   "metadata": {},
   "outputs": [
    {
     "data": {
      "text/html": [
       "<div>\n",
       "<style scoped>\n",
       "    .dataframe tbody tr th:only-of-type {\n",
       "        vertical-align: middle;\n",
       "    }\n",
       "\n",
       "    .dataframe tbody tr th {\n",
       "        vertical-align: top;\n",
       "    }\n",
       "\n",
       "    .dataframe thead th {\n",
       "        text-align: right;\n",
       "    }\n",
       "</style>\n",
       "<table border=\"1\" class=\"dataframe\">\n",
       "  <thead>\n",
       "    <tr style=\"text-align: right;\">\n",
       "      <th></th>\n",
       "      <th>label_capitalized</th>\n",
       "      <th>sentiment</th>\n",
       "      <th>sentiment_rate</th>\n",
       "      <th>sentiment_perc</th>\n",
       "    </tr>\n",
       "  </thead>\n",
       "  <tbody>\n",
       "    <tr>\n",
       "      <th>0</th>\n",
       "      <td>Obama</td>\n",
       "      <td>Positive</td>\n",
       "      <td>0.595635</td>\n",
       "      <td>59.563486</td>\n",
       "    </tr>\n",
       "    <tr>\n",
       "      <th>1</th>\n",
       "      <td>Trump</td>\n",
       "      <td>Positive</td>\n",
       "      <td>0.460948</td>\n",
       "      <td>46.094769</td>\n",
       "    </tr>\n",
       "    <tr>\n",
       "      <th>2</th>\n",
       "      <td>Obama</td>\n",
       "      <td>Negative</td>\n",
       "      <td>0.057552</td>\n",
       "      <td>5.755244</td>\n",
       "    </tr>\n",
       "    <tr>\n",
       "      <th>3</th>\n",
       "      <td>Trump</td>\n",
       "      <td>Negative</td>\n",
       "      <td>0.361498</td>\n",
       "      <td>36.149818</td>\n",
       "    </tr>\n",
       "    <tr>\n",
       "      <th>4</th>\n",
       "      <td>Obama</td>\n",
       "      <td>Neutral</td>\n",
       "      <td>0.345550</td>\n",
       "      <td>34.555034</td>\n",
       "    </tr>\n",
       "    <tr>\n",
       "      <th>5</th>\n",
       "      <td>Trump</td>\n",
       "      <td>Neutral</td>\n",
       "      <td>0.162560</td>\n",
       "      <td>16.256045</td>\n",
       "    </tr>\n",
       "    <tr>\n",
       "      <th>6</th>\n",
       "      <td>Obama</td>\n",
       "      <td>Mixed</td>\n",
       "      <td>0.001390</td>\n",
       "      <td>0.139023</td>\n",
       "    </tr>\n",
       "    <tr>\n",
       "      <th>7</th>\n",
       "      <td>Trump</td>\n",
       "      <td>Mixed</td>\n",
       "      <td>0.015020</td>\n",
       "      <td>1.501963</td>\n",
       "    </tr>\n",
       "  </tbody>\n",
       "</table>\n",
       "</div>"
      ],
      "text/plain": [
       "  label_capitalized sentiment  sentiment_rate  sentiment_perc\n",
       "0             Obama  Positive        0.595635       59.563486\n",
       "1             Trump  Positive        0.460948       46.094769\n",
       "2             Obama  Negative        0.057552        5.755244\n",
       "3             Trump  Negative        0.361498       36.149818\n",
       "4             Obama   Neutral        0.345550       34.555034\n",
       "5             Trump   Neutral        0.162560       16.256045\n",
       "6             Obama     Mixed        0.001390        0.139023\n",
       "7             Trump     Mixed        0.015020        1.501963"
      ]
     },
     "execution_count": 32,
     "metadata": {},
     "output_type": "execute_result"
    }
   ],
   "source": [
    "df_melt"
   ]
  },
  {
   "cell_type": "code",
   "execution_count": 34,
   "metadata": {},
   "outputs": [
    {
     "name": "stderr",
     "output_type": "stream",
     "text": [
      "C:\\ProgramData\\Anaconda3\\lib\\site-packages\\seaborn\\categorical.py:3666: UserWarning: The `factorplot` function has been renamed to `catplot`. The original name will be removed in a future release. Please update your code. Note that the default `kind` in `factorplot` (`'point'`) has changed `'strip'` in `catplot`.\n",
      "  warnings.warn(msg)\n"
     ]
    },
    {
     "data": {
      "image/png": "[encoded data removed]",
      "text/plain": [
       "<Figure size 440.875x360 with 1 Axes>"
      ]
     },
     "metadata": {},
     "output_type": "display_data"
    }
   ],
   "source": [
    "#plotting the results\n",
    "sns_plot = sns.factorplot(x='label_capitalized', y='sentiment_perc', hue='sentiment', data=df_melt, kind='bar')\n",
    "sns_plot.set_xticklabels(rotation=15)\n",
    "sns_plot.set_xlabels('President', fontsize=14)\n",
    "sns_plot.set_ylabels('Sentiment %', fontsize=14)\n",
    "sns_plot.set_titles('Sentiment Analysis')\n",
    "plt.show()\n"
   ]
  },
  {
   "cell_type": "code",
   "execution_count": 35,
   "metadata": {},
   "outputs": [
    {
     "data": {
      "text/html": [
       "<div>\n",
       "<style scoped>\n",
       "    .dataframe tbody tr th:only-of-type {\n",
       "        vertical-align: middle;\n",
       "    }\n",
       "\n",
       "    .dataframe tbody tr th {\n",
       "        vertical-align: top;\n",
       "    }\n",
       "\n",
       "    .dataframe thead th {\n",
       "        text-align: right;\n",
       "    }\n",
       "</style>\n",
       "<table border=\"1\" class=\"dataframe\">\n",
       "  <thead>\n",
       "    <tr style=\"text-align: right;\">\n",
       "      <th></th>\n",
       "      <th>obama</th>\n",
       "      <th>trump</th>\n",
       "    </tr>\n",
       "  </thead>\n",
       "  <tbody>\n",
       "    <tr>\n",
       "      <th>Positive</th>\n",
       "      <td>0.595635</td>\n",
       "      <td>0.460948</td>\n",
       "    </tr>\n",
       "    <tr>\n",
       "      <th>Neutral</th>\n",
       "      <td>0.345550</td>\n",
       "      <td>0.162560</td>\n",
       "    </tr>\n",
       "    <tr>\n",
       "      <th>Negative</th>\n",
       "      <td>0.057552</td>\n",
       "      <td>0.361498</td>\n",
       "    </tr>\n",
       "    <tr>\n",
       "      <th>Mixed</th>\n",
       "      <td>0.001390</td>\n",
       "      <td>0.015020</td>\n",
       "    </tr>\n",
       "  </tbody>\n",
       "</table>\n",
       "</div>"
      ],
      "text/plain": [
       "             obama     trump\n",
       "Positive  0.595635  0.460948\n",
       "Neutral   0.345550  0.162560\n",
       "Negative  0.057552  0.361498\n",
       "Mixed     0.001390  0.015020"
      ]
     },
     "execution_count": 35,
     "metadata": {},
     "output_type": "execute_result"
    }
   ],
   "source": [
    "# transforming the dataframe to another format\n",
    "df_t = df_sentiment.drop('label_capitalized', axis=1).T\n",
    "df_t = df_t.reindex(index = ['Positive', 'Neutral', 'Negative', 'Mixed'])\n",
    "df_t"
   ]
  },
  {
   "cell_type": "code",
   "execution_count": 37,
   "metadata": {
    "scrolled": false
   },
   "outputs": [
    {
     "name": "stderr",
     "output_type": "stream",
     "text": [
      "C:\\ProgramData\\Anaconda3\\lib\\site-packages\\matplotlib\\cbook\\deprecation.py:107: MatplotlibDeprecationWarning: Adding an axes using the same arguments as a previous axes currently reuses the earlier instance.  In a future version, a new instance will always be created and returned.  Meanwhile, this warning can be suppressed, and the future behavior ensured, by passing a unique label to each axes instance.\n",
      "  warnings.warn(message, mplDeprecation, stacklevel=1)\n"
     ]
    },
    {
     "data": {
      "image/png": "[encoded data removed]",
      "text/plain": [
       "<Figure size 432x288 with 1 Axes>"
      ]
     },
     "metadata": {},
     "output_type": "display_data"
    }
   ],
   "source": [
    "# spider chart visualisation\n",
    "categories=['Positive', 'Neutral', 'Negative', 'Mixed']\n",
    "colors = ['']\n",
    "N = len(categories)\n",
    "legend = []\n",
    "\n",
    "for n in range(len(df_t.columns)):\n",
    "\n",
    "    values= df_t[df_t.columns[n]].tolist()\n",
    "    values += values[:1]\n",
    "    legend.append(df_t.columns[n])\n",
    "    \n",
    "    angles = [n / float(N) * 2 * pi for n in range(N)]\n",
    "    angles += angles[:1]\n",
    "\n",
    "    ax = plt.subplot(111, polar=True)\n",
    "\n",
    "    plt.xticks(angles[:-1], categories, color='black', size=8)\n",
    "\n",
    "    \n",
    "    ax.set_rlabel_position(0)\n",
    "    plt.yticks([0.2,0.4,0.6, 0.8], [\"20\",\"40\",\"60\", \"\"], color=\"black\", size=7)\n",
    "    plt.ylim(0,0.80)\n",
    "\n",
    "    \n",
    "    ax.plot(angles, values, linewidth=1, linestyle='solid')\n",
    "    \n",
    "\n",
    "    plt.legend(legend, bbox_to_anchor=(1.04,1), loc=\"upper left\")\n",
    "    ax.fill(angles, values, 'b', alpha=0.05)\n",
    "\n",
    "plt.show()\n",
    "    "
   ]
  },
  {
   "cell_type": "markdown",
   "metadata": {},
   "source": [
    "things to go on with:\n",
    "    - download the original audio transcription and compare it with the aws comprehend (spacy, wmd)\n",
    "    - use other sentiment analyis tools (vader for example)\n",
    "    - more graphs"
   ]
  }
 ],
 "metadata": {
  "kernelspec": {
   "display_name": "Python 3",
   "language": "python",
   "name": "python3"
  },
  "language_info": {
   "codemirror_mode": {
    "name": "ipython",
    "version": 3
   },
   "file_extension": ".py",
   "mimetype": "text/x-python",
   "name": "python",
   "nbconvert_exporter": "python",
   "pygments_lexer": "ipython3",
   "version": "3.6.5"
  },
  "toc": {
   "base_numbering": 1,
   "nav_menu": {},
   "number_sections": true,
   "sideBar": true,
   "skip_h1_title": false,
   "title_cell": "Table of Contents",
   "title_sidebar": "Contents",
   "toc_cell": false,
   "toc_position": {},
   "toc_section_display": true,
   "toc_window_display": false
  },
  "varInspector": {
   "cols": {
    "lenName": 16,
    "lenType": 16,
    "lenVar": 40
   },
   "kernels_config": {
    "python": {
     "delete_cmd_postfix": "",
     "delete_cmd_prefix": "del ",
     "library": "var_list.py",
     "varRefreshCmd": "print(var_dic_list())"
    },
    "r": {
     "delete_cmd_postfix": ") ",
     "delete_cmd_prefix": "rm(",
     "library": "var_list.r",
     "varRefreshCmd": "cat(var_dic_list()) "
    }
   },
   "types_to_exclude": [
    "module",
    "function",
    "builtin_function_or_method",
    "instance",
    "_Feature"
   ],
   "window_display": false
  }
 },
 "nbformat": 4,
 "nbformat_minor": 2
}
